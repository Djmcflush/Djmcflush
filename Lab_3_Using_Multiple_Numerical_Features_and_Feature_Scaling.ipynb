{
  "nbformat": 4,
  "nbformat_minor": 0,
  "metadata": {
    "colab": {
      "name": "Lab 3: Using Multiple Numerical Features and Feature Scaling.ipynb",
      "version": "0.3.2",
      "provenance": [],
      "collapsed_sections": [
        "JndnmDMp66FL"
      ],
      "include_colab_link": true
    }
  },
  "cells": [
    {
      "cell_type": "markdown",
      "metadata": {
        "id": "view-in-github",
        "colab_type": "text"
      },
      "source": [
        "[View in Colaboratory](https://colab.research.google.com/github/Djmcflush/Djmcflush.github.io/blob/master/Lab_3_Using_Multiple_Numerical_Features_and_Feature_Scaling.ipynb)"
      ]
    },
    {
      "metadata": {
        "id": "JndnmDMp66FL",
        "colab_type": "text"
      },
      "cell_type": "markdown",
      "source": [
        "#### Copyright 2017 Google LLC."
      ]
    },
    {
      "metadata": {
        "id": "hMqWDc_m6rUC",
        "colab_type": "code",
        "colab": {},
        "cellView": "both"
      },
      "cell_type": "code",
      "source": [
        "# Licensed under the Apache License, Version 2.0 (the \"License\");\n",
        "# you may not use this file except in compliance with the License.\n",
        "# You may obtain a copy of the License at\n",
        "#\n",
        "# https://www.apache.org/licenses/LICENSE-2.0\n",
        "#\n",
        "# Unless required by applicable law or agreed to in writing, software\n",
        "# distributed under the License is distributed on an \"AS IS\" BASIS,\n",
        "# WITHOUT WARRANTIES OR CONDITIONS OF ANY KIND, either express or implied.\n",
        "# See the License for the specific language governing permissions and\n",
        "# limitations under the License."
      ],
      "execution_count": 0,
      "outputs": []
    },
    {
      "metadata": {
        "id": "4f3CKqFUqL2-",
        "colab_type": "text"
      },
      "cell_type": "markdown",
      "source": [
        "#Lab 3: Using Multiple Numerical Features and Feature Scaling \n",
        "\n",
        "\n",
        "**Learning Objectives:**\n",
        "* Train a model using more than one feature\n",
        "* Learn the importance of feature transformations\n",
        "* Introduce linear and log transformations of features.\n"
      ]
    },
    {
      "metadata": {
        "id": "if3EBefJeqKq",
        "colab_type": "text"
      },
      "cell_type": "markdown",
      "source": [
        "### Standard Set-up\n",
        "\n",
        "We begin with the standard set-up as seen in the last lab.  We will again use the [Automobile Data Set](https://archive.ics.uci.edu/ml/datasets/automobile) and replace missing numerical values by the column mean."
      ]
    },
    {
      "metadata": {
        "id": "6CspO1zVopXj",
        "colab_type": "code",
        "colab": {
          "base_uri": "https://localhost:8080/",
          "height": 318
        },
        "cellView": "both",
        "outputId": "52047f7a-1983-46ff-def5-77d9576dc458"
      },
      "cell_type": "code",
      "source": [
        "import fnmatch\n",
        "import math\n",
        "\n",
        "from IPython import display\n",
        "from matplotlib import cm\n",
        "from matplotlib import gridspec\n",
        "from matplotlib import pyplot as plt\n",
        "import numpy as np\n",
        "import pandas as pd\n",
        "from mpl_toolkits.mplot3d import Axes3D\n",
        "from sklearn import metrics\n",
        "import tensorflow as tf\n",
        "from tensorflow.contrib.learn.python.learn import learn_io, estimator\n",
        "\n",
        "# This line increases the amount of logging when there is an error.  You can\n",
        "# remove it if you want less logging.\n",
        "tf.logging.set_verbosity(tf.logging.ERROR)\n",
        "\n",
        "# Set the output display to have two digits for decimal places, for display\n",
        "# readability only, and limit it to printing 15 rows.\n",
        "pd.options.display.float_format = '{:.2f}'.format\n",
        "pd.options.display.max_rows = 15\n",
        "\n",
        "# Provide the names for the columns since the CSV file with the data does\n",
        "# not have a header row.\n",
        "cols = ['symboling', 'losses', 'make', 'fuel-type', 'aspiration', 'num-doors',\n",
        "        'body-style', 'drive-wheels', 'engine-location', 'wheel-base',\n",
        "        'length', 'width', 'height', 'weight', 'engine-type', 'num-cylinders',\n",
        "        'engine-size', 'fuel-system', 'bore', 'stroke', 'compression-ratio',\n",
        "        'horsepower', 'peak-rpm', 'city-mpg', 'highway-mpg', 'price']\n",
        "\n",
        "\n",
        "# Load in the data from a CSV file that is comma seperated.\n",
        "car_data = pd.read_csv('https://storage.googleapis.com/ml_universities/cars_dataset/cars_data.csv',\n",
        "                        sep=',', names=cols, header=None, encoding='latin-1')\n",
        "\n",
        "# We randomize the data, just to be sure not to get any pathological\n",
        "# ordering effects that might harm the performance of stochastic gradient\n",
        "# descent.\n",
        "car_data = car_data.reindex(np.random.permutation(car_data.index))\n",
        "\n",
        "# Coerce all missing entries to NaN, and then replace those by the column mean.\n",
        "car_data['price'] = pd.to_numeric(car_data['price'], errors='coerce')\n",
        "car_data['horsepower'] = pd.to_numeric(car_data['horsepower'], errors='coerce')\n",
        "car_data['peak-rpm'] = pd.to_numeric(car_data['peak-rpm'], errors='coerce')\n",
        "car_data['city-mpg'] = pd.to_numeric(car_data['city-mpg'], errors='coerce')\n",
        "car_data['highway-mpg'] = pd.to_numeric(car_data['highway-mpg'], errors='coerce')\n",
        "car_data.fillna(car_data.mean(), inplace=True)\n",
        "car_data.describe()"
      ],
      "execution_count": 9,
      "outputs": [
        {
          "output_type": "execute_result",
          "data": {
            "text/html": [
              "<div>\n",
              "<style scoped>\n",
              "    .dataframe tbody tr th:only-of-type {\n",
              "        vertical-align: middle;\n",
              "    }\n",
              "\n",
              "    .dataframe tbody tr th {\n",
              "        vertical-align: top;\n",
              "    }\n",
              "\n",
              "    .dataframe thead th {\n",
              "        text-align: right;\n",
              "    }\n",
              "</style>\n",
              "<table border=\"1\" class=\"dataframe\">\n",
              "  <thead>\n",
              "    <tr style=\"text-align: right;\">\n",
              "      <th></th>\n",
              "      <th>symboling</th>\n",
              "      <th>wheel-base</th>\n",
              "      <th>length</th>\n",
              "      <th>width</th>\n",
              "      <th>height</th>\n",
              "      <th>weight</th>\n",
              "      <th>engine-size</th>\n",
              "      <th>compression-ratio</th>\n",
              "      <th>horsepower</th>\n",
              "      <th>peak-rpm</th>\n",
              "      <th>city-mpg</th>\n",
              "      <th>highway-mpg</th>\n",
              "      <th>price</th>\n",
              "    </tr>\n",
              "  </thead>\n",
              "  <tbody>\n",
              "    <tr>\n",
              "      <th>count</th>\n",
              "      <td>205.00</td>\n",
              "      <td>205.00</td>\n",
              "      <td>205.00</td>\n",
              "      <td>205.00</td>\n",
              "      <td>205.00</td>\n",
              "      <td>205.00</td>\n",
              "      <td>205.00</td>\n",
              "      <td>205.00</td>\n",
              "      <td>205.00</td>\n",
              "      <td>205.00</td>\n",
              "      <td>205.00</td>\n",
              "      <td>205.00</td>\n",
              "      <td>205.00</td>\n",
              "    </tr>\n",
              "    <tr>\n",
              "      <th>mean</th>\n",
              "      <td>0.83</td>\n",
              "      <td>98.76</td>\n",
              "      <td>174.05</td>\n",
              "      <td>65.91</td>\n",
              "      <td>53.72</td>\n",
              "      <td>2555.57</td>\n",
              "      <td>126.91</td>\n",
              "      <td>10.14</td>\n",
              "      <td>104.26</td>\n",
              "      <td>5125.37</td>\n",
              "      <td>25.22</td>\n",
              "      <td>30.75</td>\n",
              "      <td>13207.13</td>\n",
              "    </tr>\n",
              "    <tr>\n",
              "      <th>std</th>\n",
              "      <td>1.25</td>\n",
              "      <td>6.02</td>\n",
              "      <td>12.34</td>\n",
              "      <td>2.15</td>\n",
              "      <td>2.44</td>\n",
              "      <td>520.68</td>\n",
              "      <td>41.64</td>\n",
              "      <td>3.97</td>\n",
              "      <td>39.52</td>\n",
              "      <td>476.98</td>\n",
              "      <td>6.54</td>\n",
              "      <td>6.89</td>\n",
              "      <td>7868.77</td>\n",
              "    </tr>\n",
              "    <tr>\n",
              "      <th>min</th>\n",
              "      <td>-2.00</td>\n",
              "      <td>86.60</td>\n",
              "      <td>141.10</td>\n",
              "      <td>60.30</td>\n",
              "      <td>47.80</td>\n",
              "      <td>1488.00</td>\n",
              "      <td>61.00</td>\n",
              "      <td>7.00</td>\n",
              "      <td>48.00</td>\n",
              "      <td>4150.00</td>\n",
              "      <td>13.00</td>\n",
              "      <td>16.00</td>\n",
              "      <td>5118.00</td>\n",
              "    </tr>\n",
              "    <tr>\n",
              "      <th>25%</th>\n",
              "      <td>0.00</td>\n",
              "      <td>94.50</td>\n",
              "      <td>166.30</td>\n",
              "      <td>64.10</td>\n",
              "      <td>52.00</td>\n",
              "      <td>2145.00</td>\n",
              "      <td>97.00</td>\n",
              "      <td>8.60</td>\n",
              "      <td>70.00</td>\n",
              "      <td>4800.00</td>\n",
              "      <td>19.00</td>\n",
              "      <td>25.00</td>\n",
              "      <td>7788.00</td>\n",
              "    </tr>\n",
              "    <tr>\n",
              "      <th>50%</th>\n",
              "      <td>1.00</td>\n",
              "      <td>97.00</td>\n",
              "      <td>173.20</td>\n",
              "      <td>65.50</td>\n",
              "      <td>54.10</td>\n",
              "      <td>2414.00</td>\n",
              "      <td>120.00</td>\n",
              "      <td>9.00</td>\n",
              "      <td>95.00</td>\n",
              "      <td>5200.00</td>\n",
              "      <td>24.00</td>\n",
              "      <td>30.00</td>\n",
              "      <td>10595.00</td>\n",
              "    </tr>\n",
              "    <tr>\n",
              "      <th>75%</th>\n",
              "      <td>2.00</td>\n",
              "      <td>102.40</td>\n",
              "      <td>183.10</td>\n",
              "      <td>66.90</td>\n",
              "      <td>55.50</td>\n",
              "      <td>2935.00</td>\n",
              "      <td>141.00</td>\n",
              "      <td>9.40</td>\n",
              "      <td>116.00</td>\n",
              "      <td>5500.00</td>\n",
              "      <td>30.00</td>\n",
              "      <td>34.00</td>\n",
              "      <td>16500.00</td>\n",
              "    </tr>\n",
              "    <tr>\n",
              "      <th>max</th>\n",
              "      <td>3.00</td>\n",
              "      <td>120.90</td>\n",
              "      <td>208.10</td>\n",
              "      <td>72.30</td>\n",
              "      <td>59.80</td>\n",
              "      <td>4066.00</td>\n",
              "      <td>326.00</td>\n",
              "      <td>23.00</td>\n",
              "      <td>288.00</td>\n",
              "      <td>6600.00</td>\n",
              "      <td>49.00</td>\n",
              "      <td>54.00</td>\n",
              "      <td>45400.00</td>\n",
              "    </tr>\n",
              "  </tbody>\n",
              "</table>\n",
              "</div>"
            ],
            "text/plain": [
              "       symboling  wheel-base  length  width  height  weight  engine-size  \\\n",
              "count     205.00      205.00  205.00 205.00  205.00  205.00       205.00   \n",
              "mean        0.83       98.76  174.05  65.91   53.72 2555.57       126.91   \n",
              "std         1.25        6.02   12.34   2.15    2.44  520.68        41.64   \n",
              "min        -2.00       86.60  141.10  60.30   47.80 1488.00        61.00   \n",
              "25%         0.00       94.50  166.30  64.10   52.00 2145.00        97.00   \n",
              "50%         1.00       97.00  173.20  65.50   54.10 2414.00       120.00   \n",
              "75%         2.00      102.40  183.10  66.90   55.50 2935.00       141.00   \n",
              "max         3.00      120.90  208.10  72.30   59.80 4066.00       326.00   \n",
              "\n",
              "       compression-ratio  horsepower  peak-rpm  city-mpg  highway-mpg    price  \n",
              "count             205.00      205.00    205.00    205.00       205.00   205.00  \n",
              "mean               10.14      104.26   5125.37     25.22        30.75 13207.13  \n",
              "std                 3.97       39.52    476.98      6.54         6.89  7868.77  \n",
              "min                 7.00       48.00   4150.00     13.00        16.00  5118.00  \n",
              "25%                 8.60       70.00   4800.00     19.00        25.00  7788.00  \n",
              "50%                 9.00       95.00   5200.00     24.00        30.00 10595.00  \n",
              "75%                 9.40      116.00   5500.00     30.00        34.00 16500.00  \n",
              "max                23.00      288.00   6600.00     49.00        54.00 45400.00  "
            ]
          },
          "metadata": {
            "tags": []
          },
          "execution_count": 9
        }
      ]
    },
    {
      "metadata": {
        "id": "77Ag_VxFqCaX",
        "colab_type": "text"
      },
      "cell_type": "markdown",
      "source": [
        "### Setting Up the Feature Columns and Input Function for TensorFlow\n",
        "In order to train a model in TensorFlow, each feature that you want to use for training must be put into a feature column.  We create a list of the categorical and numerical features that we will use for training our model. It's okay if one of these lists is empty. We also define `train_input_fn` to use the training data."
      ]
    },
    {
      "metadata": {
        "id": "QnU22GBnr_i3",
        "colab_type": "code",
        "colab": {}
      },
      "cell_type": "code",
      "source": [
        "CATEGORICAL_COLUMNS = []\n",
        "NUMERICAL_COLUMNS = [\"price\", \"horsepower\", \"city-mpg\", \"highway-mpg\",\n",
        "                     \"peak-rpm\", \"compression-ratio\"]\n",
        "\n",
        "def input_fn(dataframe):\n",
        "  \"\"\"Constructs a dictionary for the feature columns.\n",
        "\n",
        "  Args:\n",
        "    dataframe: The Pandas DataFrame to use for the input.\n",
        "  Returns:\n",
        "    The feature columns and the associated labels for the provided input.\n",
        "  \"\"\"\n",
        "  # Creates a dictionary mapping from each numeric feature column name (k) to\n",
        "  # the values of that column stored in a constant Tensor.\n",
        "  numerical_cols = {k: tf.constant(dataframe[k].values)\n",
        "                     for k in NUMERICAL_COLUMNS}\n",
        "  # Creates a dictionary mapping from each categorical feature column name (k)\n",
        "  # to the values of that column stored in a tf.SparseTensor.\n",
        "  categorical_cols = {k: tf.SparseTensor(\n",
        "      indices=[[i, 0] for i in range(dataframe[k].size)],\n",
        "      values=dataframe[k].values,\n",
        "      dense_shape=[dataframe[k].size, 1])\n",
        "                      for k in CATEGORICAL_COLUMNS}\n",
        "  # Merges the two dictionaries into one.\n",
        "  feature_cols = dict(numerical_cols.items() + categorical_cols.items())\n",
        "  # Converts the label column into a constant Tensor.\n",
        "  label = tf.constant(dataframe[LABEL].values)\n",
        "  # Returns the feature columns and the label.\n",
        "  return feature_cols, label\n",
        "\n",
        "def train_input_fn():\n",
        "  \"\"\"Sets up the input function using the training data.\n",
        "\n",
        "  Returns:\n",
        "     The feature columns to use for training and the associated labels.\n",
        "  \"\"\"\n",
        "  return input_fn(training_examples)"
      ],
      "execution_count": 0,
      "outputs": []
    },
    {
      "metadata": {
        "id": "MD--C-wVGEEg",
        "colab_type": "text"
      },
      "cell_type": "markdown",
      "source": [
        "### Defining the features and linear regression model\n",
        "\n",
        "We define a function to construct the feature columns, and to define the TensorFlow linear regression model."
      ]
    },
    {
      "metadata": {
        "id": "uq6e_T_1F94U",
        "colab_type": "code",
        "colab": {}
      },
      "cell_type": "code",
      "source": [
        "def construct_feature_columns():\n",
        "  \"\"\"Construct TensorFlow Feature Columns.\n",
        "  \n",
        "  Returns:\n",
        "    A set of feature columns.\n",
        "  \"\"\"\n",
        "  feature_set = set([tf.contrib.layers.real_valued_column(feature) \n",
        "                     for feature in NUMERICAL_FEATURES])\n",
        "  return feature_set\n",
        "\n",
        "def define_linear_regression_model(learning_rate):\n",
        "  \"\"\" Defines a linear regression model of one feature to predict the target.\n",
        "  \n",
        "  Args:\n",
        "    learning_rate: A `float`, the learning rate\n",
        "    \n",
        "  Returns:\n",
        "    A linear regressor created with the given parameters\n",
        "  \"\"\"\n",
        "  linear_regressor = tf.contrib.learn.LinearRegressor(\n",
        "    feature_columns=construct_feature_columns(),\n",
        "    optimizer=tf.train.GradientDescentOptimizer(learning_rate=learning_rate),\n",
        "    gradient_clip_norm=5.0\n",
        "  )  \n",
        "  return linear_regressor"
      ],
      "execution_count": 0,
      "outputs": []
    },
    {
      "metadata": {
        "id": "v5XS0Z_-GevD",
        "colab_type": "text"
      },
      "cell_type": "markdown",
      "source": [
        "### Methods to visualize our results\n",
        "\n",
        "We define functions to draw a scatter plot (with model names shown in a legend), create a calibration plot, and also to plot the learning curve."
      ]
    },
    {
      "metadata": {
        "id": "YIXTkIa6GB0s",
        "colab_type": "code",
        "colab": {}
      },
      "cell_type": "code",
      "source": [
        "def make_scatter_plot(dataframe, input_feature, target,\n",
        "                      slopes=[], biases=[], model_names=[]):\n",
        "  \"\"\" Creates a scatter plot of input_feature vs target along with model names.\n",
        "  \n",
        "  Args:\n",
        "    dataframe: the dataframe to visualize\n",
        "    input_feature: the input feature to be used for the x-axis\n",
        "    target: the target to be used for the y-axis\n",
        "    slopes: list of model weights (slope) \n",
        "    bias: list of model biases (same length as slopes)\n",
        "    model_names: list of model_names to use for legend (same length as slopes)\n",
        "  \"\"\"      \n",
        "  # Define some colors to use that go from blue towards red\n",
        "  colors = [cm.coolwarm(x) for x in np.linspace(0, 1, len(slopes))]\n",
        "  \n",
        "  # Generate the scatter plot\n",
        "  x = dataframe[input_feature]\n",
        "  y = dataframe[target]\n",
        "  plt.ylabel(target)\n",
        "  plt.xlabel(input_feature)\n",
        "  plt.scatter(x, y, color='black', label=\"\")\n",
        "\n",
        "  # Add lines corresponding to the provided models\n",
        "  for i in range (0, len(slopes)):\n",
        "    y_0 = slopes[i] * x.min() + biases[i]\n",
        "    y_1 = slopes[i] * x.max() + biases[i]\n",
        "    plt.plot([x.min(), x.max()], [y_0, y_1],\n",
        "             label=model_names[i], color=colors[i])\n",
        "  plt.legend(bbox_to_anchor=(1.05, 1), loc=2, borderaxespad=0.)\n",
        "  \n",
        "def make_calibration_plot(predictions, targets):\n",
        "  \"\"\" Creates a calibration plot.\n",
        "  \n",
        "  Args:\n",
        "    predictions: a list of values predicted by the model being visualized\n",
        "    targets: a list of the target values being predicted that must be the\n",
        "             same length as predictions.\n",
        "  \"\"\"  \n",
        "  calibration_data = pd.DataFrame()\n",
        "  calibration_data[\"predictions\"] = pd.Series(predictions)\n",
        "  calibration_data[\"targets\"] = pd.Series(targets)\n",
        "  calibration_data.describe()\n",
        "  min_val = calibration_data[\"predictions\"].min()\n",
        "  max_val = calibration_data[\"predictions\"].max()\n",
        "  plt.ylabel(\"target\")\n",
        "  plt.xlabel(\"prediction\")\n",
        "  plt.scatter(predictions, targets, color='black')\n",
        "  plt.plot([min_val, max_val], [min_val, max_val])\n",
        "  \n",
        "def plot_learning_curve(training_losses):\n",
        "  \"\"\" Plot the learning curve.\n",
        "  \n",
        "  Args:\n",
        "    training_loses: a list of losses to plot.\n",
        "  \"\"\"        \n",
        "  plt.ylabel('Loss')\n",
        "  plt.xlabel('Training Steps')\n",
        "  plt.plot(training_losses)"
      ],
      "execution_count": 0,
      "outputs": []
    },
    {
      "metadata": {
        "id": "HYwpTeMeHT9D",
        "colab_type": "text"
      },
      "cell_type": "markdown",
      "source": [
        "### Functions for training the model\n",
        "\n",
        "We use the same method as in the last lab to define the loss function (RMSE for linear regression) and to train the model."
      ]
    },
    {
      "metadata": {
        "id": "Ivp8BYVNMFT-",
        "colab_type": "code",
        "colab": {}
      },
      "cell_type": "code",
      "source": [
        "def compute_loss(predictions, targets):\n",
        "  \"\"\" Computes the loss (RMSE) for linear regression.\n",
        "  \n",
        "  Args:\n",
        "    predictions: a list of values predicted by the model.\n",
        "    targets: a list of the target values being predicted that must be the\n",
        "             same length as predictions.\n",
        "    \n",
        "  Returns:\n",
        "    The RMSE for the provided predictions and targets.\n",
        "  \"\"\"      \n",
        "  return math.sqrt(metrics.mean_squared_error(predictions, targets))\n",
        "\n",
        "def train_model(linear_regressor, steps):\n",
        "  \"\"\"Trains a linear regression model.\n",
        "  \n",
        "  Args:\n",
        "    linear_regressor: The regressor to train.\n",
        "    steps: A positive `int`, the total number of training steps.\n",
        "    \n",
        "  Returns:\n",
        "    The trained regressor.\n",
        "  \"\"\"\n",
        "  # In order to see how the model evolves as we train it, we divide the\n",
        "  # steps into ten periods, and show the model after each period.\n",
        "  periods = 10\n",
        "  steps_per_period = steps / periods\n",
        "  \n",
        "  # Train the model, but do so inside a loop so that we can periodically assess\n",
        "  # loss metrics. We store the loss, slope (feature weight), bias, and a name\n",
        "  # for the model when there is a single feature (which would then allow us\n",
        "  # to plot the model in a scatter plot).\n",
        "  print \"Training model...\"\n",
        "  training_losses = []\n",
        "  slopes = []\n",
        "  biases = []\n",
        "  model_names = []\n",
        "\n",
        "  for period in range (0, periods):\n",
        "    # Call fit to train the regressor for steps_per_period steps\n",
        "    linear_regressor.fit(input_fn=train_input_fn, steps=steps_per_period)\n",
        "\n",
        "    # Use the predict method to compute the predictions of the current model\n",
        "    predictions = np.array(list(linear_regressor.predict(\n",
        "        input_fn=train_input_fn)))\n",
        "   \n",
        "    # Compute the loss between the predictions and correct labels, append\n",
        "    # the loss to the list of losses used to generate the learning curve after\n",
        "    # training is complete, and print the current loss\n",
        "    loss = compute_loss(predictions, training_examples[LABEL])\n",
        "    training_losses.append(loss) \n",
        "    print \"  Loss after period %02d : %0.3f\" % (period, loss)\n",
        "     \n",
        "    # When there is a single input feature, add slope, bias and model_name to\n",
        "    # the lists to be used later to plot the model.\n",
        "    if len(NUMERICAL_FEATURES) == 1 and len(CATEGORICAL_FEATURES) == 0:\n",
        "      feature_weight = fnmatch.filter(linear_regressor.get_variable_names(),\n",
        "                                      'linear/*/weight')\n",
        "      slopes.append(linear_regressor.get_variable_value(\n",
        "          feature_weight[0])[0])\n",
        "      biases.append(linear_regressor.get_variable_value(\n",
        "          'linear/bias_weight')[0])\n",
        "      model_names.append(\"period_\" + str(period))\n",
        "      \n",
        "  # Now that training is done print the final loss    \n",
        "  print \"Final Loss (RMSE) on the training data: %0.3f\" % loss \n",
        "  \n",
        "  # Generate a figure with the learning curve on the left and either a scatter\n",
        "  # plot or calibration plot (when more than 2 input features) on the right.\n",
        "  plt.figure(figsize=(10, 5))\n",
        "  plt.subplot(1, 2, 1)\n",
        "  plt.title(\"Learning Curve (RMSE vs time)\")\n",
        "  plot_learning_curve(training_losses)\n",
        "  plt.subplot(1, 2, 2)\n",
        "  plt.tight_layout(pad=1.1, w_pad=3.0, h_pad=3.0)\n",
        " \n",
        "  if len(NUMERICAL_FEATURES) > 1 or len(CATEGORICAL_FEATURES) != 0:\n",
        "    plt.title(\"Calibration Plot\")\n",
        "    make_calibration_plot(predictions, training_examples[LABEL])\n",
        "\n",
        "  else:\n",
        "    plt.title(\"Learned Model by Period on Scatter Plot\")\n",
        "    make_scatter_plot(training_examples, NUMERICAL_FEATURES[0], LABEL,\n",
        "                      slopes, biases, model_names)\n",
        "   \n",
        "  return linear_regressor"
      ],
      "execution_count": 0,
      "outputs": []
    },
    {
      "metadata": {
        "id": "AoFH5cbnuJsG",
        "colab_type": "text"
      },
      "cell_type": "markdown",
      "source": [
        "###Prepare Features\n",
        "\n",
        "In this lab you'll learn about the need to perform some feature transformation.  You'll do this by modifyijng the processed features before returning them.  So expect to modify this function later in this lab."
      ]
    },
    {
      "metadata": {
        "id": "4_uZ7UirAw28",
        "colab_type": "code",
        "colab": {}
      },
      "cell_type": "code",
      "source": [
        "def prepare_features(dataframe):\n",
        "  \"\"\"Prepares the features for the provided dataset.\n",
        "\n",
        "  Args:\n",
        "    dataframe: A Pandas DataFrame that contains the data set.\n",
        "  Returns:\n",
        "    A new DataFrame that contains the features to be used to train the model.\n",
        "  \"\"\"\n",
        "  processed_features = dataframe.copy()\n",
        "  return processed_features"
      ],
      "execution_count": 0,
      "outputs": []
    },
    {
      "metadata": {
        "id": "zMB1h5gRu2_2",
        "colab_type": "text"
      },
      "cell_type": "markdown",
      "source": [
        "### Generate the Training Examples\n",
        "We simple call `prepare_features` on the `car_data` dataframe.  We also include code to plot a histogram of `price`, `highway-mpg` and `city-mpg` to help understand the data we are using to train our model to predict `city-mpg`."
      ]
    },
    {
      "metadata": {
        "id": "2vyxFjtnBRrx",
        "colab_type": "code",
        "colab": {
          "base_uri": "https://localhost:8080/",
          "height": 335
        },
        "outputId": "d76d3ceb-c540-4578-d984-db00284e8b58"
      },
      "cell_type": "code",
      "source": [
        "training_examples = prepare_features(car_data)\n",
        "\n",
        "plt.figure(figsize=(20, 5))\n",
        "plt.subplot(1, 3, 1)\n",
        "plt.title(\"price\")\n",
        "histogram = car_data[\"price\"].hist(bins=50)\n",
        "\n",
        "plt.subplot(1, 3, 2)\n",
        "plt.title(\"highway-mpg\")\n",
        "histogram = car_data[\"highway-mpg\"].hist(bins=50)\n",
        "\n",
        "\n",
        "plt.subplot(1, 3, 3)\n",
        "plt.title(\"city-mpg\")\n",
        "histogram = car_data[\"city-mpg\"].hist(bins=50)"
      ],
      "execution_count": 15,
      "outputs": [
        {
          "output_type": "display_data",
          "data": {
            "image/png": "[encoded data removed]",
            "text/plain": [
              "<matplotlib.figure.Figure at 0x7fa19708eb50>"
            ]
          },
          "metadata": {
            "tags": []
          }
        }
      ]
    },
    {
      "metadata": {
        "id": "UBLo7cntgAO4",
        "colab_type": "text"
      },
      "cell_type": "markdown",
      "source": [
        "##Task 1: Train a Model Using Two Input Features (2 points)\n",
        "\n",
        "The focus on this lab is learning some of the issues that arise,  and how to address them when you train a model with multiple features.  The first task is to train a model to predict `city-mpg` from `highway-mpg` and `price` without using any feature processing.  Remember what you learned in the last lab about how to find a good learning rate and numer of steps to train."
      ]
    },
    {
      "metadata": {
        "id": "SrZkt2m3gpVz",
        "colab_type": "code",
        "colab": {
          "base_uri": "https://localhost:8080/",
          "height": 626
        },
        "outputId": "96909a7d-fa88-4e24-a18d-359daa4c9ca5"
      },
      "cell_type": "code",
      "source": [
        "NUMERICAL_FEATURES = [\"price\", \"highway-mpg\"]\n",
        "CATEGORICAL_FEATURES = []\n",
        "LABEL = \"city-mpg\"\n",
        "\n",
        "LEARNING_RATE = 15\n",
        "STEPS = 100\n",
        "\n",
        "linear_regressor = define_linear_regression_model(learning_rate = LEARNING_RATE)\n",
        "linear_regressor = train_model(linear_regressor, steps=STEPS)\n",
        "\n",
        "print \"weight for price:\", linear_regressor.get_variable_value(\n",
        "    \"linear/price/weight\")[0]\n",
        "print \"weight for highway-mpg:\", linear_regressor.get_variable_value(\n",
        "    \"linear/highway-mpg/weight\")[0]\n",
        "print \"bias:\",  linear_regressor.get_variable_value(\"linear/bias_weight\")"
      ],
      "execution_count": 16,
      "outputs": [
        {
          "output_type": "stream",
          "text": [
            "Training model...\n",
            "  Loss after period 00 : 24.226\n",
            "  Loss after period 01 : 23.227\n",
            "  Loss after period 02 : 22.687\n",
            "  Loss after period 03 : 22.467\n",
            "  Loss after period 04 : 22.348\n",
            "  Loss after period 05 : 22.223\n",
            "  Loss after period 06 : 22.024\n",
            "  Loss after period 07 : 22.110\n",
            "  Loss after period 08 : 22.182\n",
            "  Loss after period 09 : 22.201\n",
            "Final Loss (RMSE) on the training data: 22.201\n",
            "weight for price: [-0.0014863]\n",
            "weight for highway-mpg: [0.8383682]\n",
            "bias: [0.01978266]\n"
          ],
          "name": "stdout"
        },
        {
          "output_type": "display_data",
          "data": {
            "image/png": "[encoded data removed]",
            "text/plain": [
              "<matplotlib.figure.Figure at 0x7fa197098150>"
            ]
          },
          "metadata": {
            "tags": []
          }
        }
      ]
    },
    {
      "metadata": {
        "id": "cuiR0ezDH8Gh",
        "colab_type": "text"
      },
      "cell_type": "markdown",
      "source": [
        "### Think about these questions about what you found in training your model in Task 1\n",
        "\n",
        "* Look at the weight for the two variables.  Do they match what you'd expect to see?\n",
        "* Given that `highway-mpg` is well correlated with `city-mpg`, what is it you see in the histograms that might explain why it was hard to train the model?\n",
        "* For linear regression it is important that all of the features are roughly in the same range so that a priori they are treated as equally important.  How does the range of the price compare to the highway mpg, and what effect might this have when training the model?\n"
      ]
    },
    {
      "metadata": {
        "id": "h2Cuj0uxjSyN",
        "colab_type": "text"
      },
      "cell_type": "markdown",
      "source": [
        "1. Yes, i didnt expect there to be a corelation between price and city milage. While highway milage should have a correlation albeit not a strong one\n",
        "2. Well Highway MPG has a lot closer grouping then the City MPG. You could also say this as City MPG has more outliers.\n",
        "3. The range of highway mpg is litterally a thousand times smaller, i think that the effect that it had on the model was that it was hard to correlate such large inputs to minute changes in City Mpg."
      ]
    },
    {
      "metadata": {
        "id": "9WDsNKEgP-8e",
        "colab_type": "text"
      },
      "cell_type": "markdown",
      "source": [
        "## Task 2: Write a Linear Scaling Function (1 point)\n",
        "\n",
        "There are two characteristics we'd like of numerical features when used together to train a linear model\n",
        "* The range of the features is roughly the same\n",
        "* To the extent possible the histogram of the features kind of resembles a bell curve.  Sometimes the data will fit this very well and other times it won't.\n",
        "\n",
        "As you've already seen in the code, you can take a Pandas column (e.g. `car_data['price']`) and find the min value with `car_data['price'].min()` and likewise find the max with `car_data['price'].max()`. Note that you can use a lambda function to apply `f(x)` to all entries `x` in a Pandas column `feature` using.\n",
        "```\n",
        "   feature.apply(lambda x: f(x))\n",
        "```\n",
        "\n",
        "To provide an example of feature transformation, we have provided an implementation for log scaling.  Note that we take the log of x+1 for column value of x so that we are always taking the log of a number greater than 0 since log 0 is not defined. In this data all values are at least 0, so log(x+1) is well defined.\n",
        "\n",
        "You are to complete the implementation of `linear_scale`, in which you simply stretch/compress and shift the features linearly to fall into the interval [0,1]. The minimum value that occurs will map to 0, the maximum value that occurs will map to 1, (min + max)/2 will map to 0.5, and so on.  You will need to make sure that your output from `linear_scale` is a real number (versus an integer). Be sure to test your function on some examples.  For example if the input series originally had values going from 10 to 20, then after applying linear scale 10 should map to 0, 11 should map to 1, 12 should map to 2, ... and so on with 20 mapping to 1."
      ]
    },
    {
      "metadata": {
        "id": "GaIy2hyRKUgE",
        "colab_type": "code",
        "colab": {}
      },
      "cell_type": "code",
      "source": [
        "# Perform log scaling\n",
        "def log_scale(series):\n",
        "  return series.apply(lambda x:math.log(x+1.0))\n",
        "\n",
        "# Linearly rescales to the range [0, 1]\n",
        "# You need to write this function.  Right now it just returns the same series.\n",
        "def linear_scale(series):\n",
        "  # add any additional lines of code needed\n",
        "  \n",
        "   return series.apply(lambda x: (x-series.min())/(series.max() - series.min()))"
      ],
      "execution_count": 0,
      "outputs": []
    },
    {
      "metadata": {
        "id": "aFIYIXKVTQYB",
        "colab_type": "text"
      },
      "cell_type": "markdown",
      "source": [
        "**Test your scaling procedure** with the following code block that applies these two scaling methods to `price` and `highway-mpg` and then draws a histogram for each."
      ]
    },
    {
      "metadata": {
        "id": "LoxE90BfKnTQ",
        "colab_type": "code",
        "colab": {
          "base_uri": "https://localhost:8080/",
          "height": 543
        },
        "outputId": "467968c7-5870-401b-ced7-111629ed3650"
      },
      "cell_type": "code",
      "source": [
        "def draw_histograms(feature_name):\n",
        "  plt.figure(figsize=(20, 4))\n",
        "  plt.subplot(1, 3, 1)\n",
        "  plt.title(feature_name)\n",
        "  histogram = car_data[feature_name].hist(bins=50)\n",
        "\n",
        "  plt.subplot(1, 3, 2)\n",
        "  plt.title(\"linear_scaling\")\n",
        "  scaled_features = pd.DataFrame()\n",
        "  scaled_features[feature_name] = linear_scale(car_data[feature_name])\n",
        "  histogram = scaled_features[feature_name].hist(bins=50)\n",
        "  \n",
        "  plt.subplot(1, 3, 3)\n",
        "  plt.title(\"log scaling\")\n",
        "  log_normalized_features = pd.DataFrame()\n",
        "  log_normalized_features[feature_name] = log_scale(car_data[feature_name])\n",
        "  histogram = log_normalized_features[feature_name].hist(bins=50)\n",
        "  \n",
        "draw_histograms(\"price\")\n",
        "draw_histograms(\"highway-mpg\")"
      ],
      "execution_count": 18,
      "outputs": [
        {
          "output_type": "display_data",
          "data": {
            "image/png": "[encoded data removed]",
            "text/plain": [
              "<matplotlib.figure.Figure at 0x7fa184a4ba90>"
            ]
          },
          "metadata": {
            "tags": []
          }
        },
        {
          "output_type": "display_data",
          "data": {
            "image/png": "[encoded data removed]",
            "text/plain": [
              "<matplotlib.figure.Figure at 0x7fa187eebe90>"
            ]
          },
          "metadata": {
            "tags": []
          }
        }
      ]
    },
    {
      "metadata": {
        "id": "3lLK7NF3uk03",
        "colab_type": "text"
      },
      "cell_type": "markdown",
      "source": [
        "##Task 3 - Training the Model Using the Transformed Features (2 points)\n",
        "\n",
        "Modify `prepare_features` to apply linear scaling to `price` and `highway-mpg` and then train the best model you can. **Do not modify the target feature so that the RMSE can be compared to the model you trained in Task 2 and also you want your predictions to be in the correct range**.\n",
        "\n",
        "NOTE: It is possible that if your learning rate is too high you will converge to a solution that is not optimal since you are overshotting and then undershooting the best feature weights as you get close to the optimal solution.  So when looking at the scatter plot, if you converge to a model that is not good, try a slightly smaller learning rate.\n",
        "\n"
      ]
    },
    {
      "metadata": {
        "id": "SWAmppUca4Ap",
        "colab_type": "code",
        "colab": {}
      },
      "cell_type": "code",
      "source": [
        "\n",
        "def prepare_features(dataframe):\n",
        "  \"\"\"Prepares the features for provided dataset.\n",
        "\n",
        "  Args:\n",
        "    dataframe: A Pandas DataFrame expected to contain data from the\n",
        "      desired data set.\n",
        "  Returns:\n",
        "    A new dataFrame that contains the features to be used for the model.\n",
        "  \"\"\"\n",
        "  processed_features = dataframe.copy()\n",
        "  \n",
        "  processed_features[\"price\"] = linear_scale(processed_features[\"price\"])\n",
        "  processed_features[\"highway-mpg\"]= linear_scale(processed_features[\"highway-mpg\"])\n",
        "  # Apply linear scaling to price and highway-mpg here\n",
        "  \n",
        "  return processed_features"
      ],
      "execution_count": 0,
      "outputs": []
    },
    {
      "metadata": {
        "id": "axGGiTTha4Au",
        "colab_type": "code",
        "colab": {
          "base_uri": "https://localhost:8080/",
          "height": 347
        },
        "outputId": "16f8777c-1433-41ad-a348-c745da89c2f3"
      },
      "cell_type": "code",
      "source": [
        "training_examples = prepare_features(car_data)\n",
        "\n",
        "histogram = training_examples[\"highway-mpg\"].hist(bins=50)\n",
        "histogram = training_examples[\"price\"].hist(bins=50)"
      ],
      "execution_count": 20,
      "outputs": [
        {
          "output_type": "display_data",
          "data": {
            "image/png": "[encoded data removed]",
            "text/plain": [
              "<matplotlib.figure.Figure at 0x7fa187f1bc50>"
            ]
          },
          "metadata": {
            "tags": []
          }
        }
      ]
    },
    {
      "metadata": {
        "id": "D7ciuwRRbEIc",
        "colab_type": "code",
        "colab": {
          "base_uri": "https://localhost:8080/",
          "height": 643
        },
        "outputId": "fbd8145e-9fbc-4d0b-a2ff-b22b7041876d"
      },
      "cell_type": "code",
      "source": [
        "NUMERICAL_FEATURES = [\"price\", \"highway-mpg\"]\n",
        "CATEGORICAL_FEATURES = []\n",
        "LABEL = \"city-mpg\"\n",
        "\n",
        "LEARNING_RATE = .5\n",
        "STEPS = 150\n",
        "\n",
        "linear_regressor = define_linear_regression_model(learning_rate = LEARNING_RATE)\n",
        "linear_regressor = train_model(linear_regressor, steps=STEPS)\n",
        "\n",
        "# Let's also look at the weights and bias\n",
        "print linear_regressor.get_variable_names()\n",
        "print \"weight for price:\", linear_regressor.get_variable_value(\n",
        "    \"linear/price/weight\")[0]\n",
        "print \"weight for highway-mpg:\", linear_regressor.get_variable_value(\n",
        "    \"linear/highway-mpg/weight\")[0]\n",
        "print \"bias:\",  linear_regressor.get_variable_value(\"linear/bias_weight\")"
      ],
      "execution_count": 21,
      "outputs": [
        {
          "output_type": "stream",
          "text": [
            "Training model...\n",
            "  Loss after period 00 : 6.262\n",
            "  Loss after period 01 : 5.320\n",
            "  Loss after period 02 : 4.960\n",
            "  Loss after period 03 : 4.826\n",
            "  Loss after period 04 : 4.771\n",
            "  Loss after period 05 : 4.745\n",
            "  Loss after period 06 : 4.729\n",
            "  Loss after period 07 : 4.717\n",
            "  Loss after period 08 : 4.708\n",
            "  Loss after period 09 : 4.701\n",
            "Final Loss (RMSE) on the training data: 4.701\n",
            "['global_step', 'linear/bias_weight', 'linear/highway-mpg/weight', 'linear/price/weight']\n",
            "weight for price: [-22.025005]\n",
            "weight for highway-mpg: [10.525732]\n",
            "bias: [29.590498]\n"
          ],
          "name": "stdout"
        },
        {
          "output_type": "display_data",
          "data": {
            "image/png": "[encoded data removed]",
            "text/plain": [
              "<matplotlib.figure.Figure at 0x7fa1851f5c10>"
            ]
          },
          "metadata": {
            "tags": []
          }
        }
      ]
    },
    {
      "metadata": {
        "id": "peWlRpYKbYA3",
        "colab_type": "text"
      },
      "cell_type": "markdown",
      "source": [
        "You are welcome to also explore using other feature transformations such as log scaling or linear scaling applied after log scaling.  However, for this simple problem, linear scaling is sufficient."
      ]
    }
  ]
}